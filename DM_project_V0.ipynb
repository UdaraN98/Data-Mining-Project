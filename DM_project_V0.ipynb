{
  "nbformat": 4,
  "nbformat_minor": 0,
  "metadata": {
    "colab": {
      "provenance": [],
      "authorship_tag": "ABX9TyO3+VWanXJo6C+5xNTZYxfU",
      "include_colab_link": true
    },
    "kernelspec": {
      "name": "python3",
      "display_name": "Python 3"
    },
    "language_info": {
      "name": "python"
    }
  },
  "cells": [
    {
      "cell_type": "markdown",
      "metadata": {
        "id": "view-in-github",
        "colab_type": "text"
      },
      "source": [
        "<a href=\"https://colab.research.google.com/github/UdaraN98/Data-Mining-Project/blob/main/DM_project_V0.ipynb\" target=\"_parent\"><img src=\"https://colab.research.google.com/assets/colab-badge.svg\" alt=\"Open In Colab\"/></a>"
      ]
    },
    {
      "cell_type": "markdown",
      "source": [
        "Merging the data and doing preprocessing of the data"
      ],
      "metadata": {
        "id": "EHdeqWUQxzn4"
      }
    },
    {
      "cell_type": "code",
      "execution_count": 32,
      "metadata": {
        "id": "Vq1Mj1iew7kR"
      },
      "outputs": [],
      "source": [
        "#importing relevant modules\n",
        "\n",
        "import pandas as pd"
      ]
    },
    {
      "cell_type": "code",
      "source": [
        "#loading data as pandas dataframes\n",
        "train_df = pd.read_csv(\"train_submissions.csv\")\n",
        "prob_df = pd.read_csv(\"problem_data.csv\")\n",
        "user_df = pd.read_csv(\"user_data.csv\")\n",
        "test_df = pd.read_csv(\"test_submissions_NeDLEvX.csv\")"
      ],
      "metadata": {
        "id": "6lWaSIIrxuph"
      },
      "execution_count": 33,
      "outputs": []
    },
    {
      "cell_type": "code",
      "source": [
        "#merging test data with users and problems dataframes\n",
        "\n",
        "test = test_df.merge(prob_df, on ='problem_id')\n",
        "test = test.merge(user_df, on = 'user_id')\n",
        "test.head()\n"
      ],
      "metadata": {
        "colab": {
          "base_uri": "https://localhost:8080/",
          "height": 270
        },
        "id": "wUlgmeo40kKc",
        "outputId": "4c72d27c-16ce-439e-99f0-191abe5fdad2"
      },
      "execution_count": 34,
      "outputs": [
        {
          "output_type": "execute_result",
          "data": {
            "text/plain": [
              "                   ID   user_id problem_id level_type  points  \\\n",
              "0  user_856_prob_5822  user_856  prob_5822          L     NaN   \n",
              "1  user_856_prob_6173  user_856  prob_6173          B  1000.0   \n",
              "2  user_856_prob_5781  user_856  prob_5781          A   500.0   \n",
              "3  user_856_prob_3438  user_856  prob_3438          A   500.0   \n",
              "4  user_856_prob_1868  user_856  prob_1868          A   500.0   \n",
              "\n",
              "                      tags  submission_count  problem_solved  contribution  \\\n",
              "0                      NaN               274             231             0   \n",
              "1  implementation,sortings               274             231             0   \n",
              "2      implementation,math               274             231             0   \n",
              "3           implementation               274             231             0   \n",
              "4   implementation,strings               274             231             0   \n",
              "\n",
              "  country  follower_count  last_online_time_seconds  max_rating   rating  \\\n",
              "0   India              35                1503233908     393.062  362.959   \n",
              "1   India              35                1503233908     393.062  362.959   \n",
              "2   India              35                1503233908     393.062  362.959   \n",
              "3   India              35                1503233908     393.062  362.959   \n",
              "4   India              35                1503233908     393.062  362.959   \n",
              "\n",
              "           rank  registration_time_seconds  \n",
              "0  intermediate                 1422163139  \n",
              "1  intermediate                 1422163139  \n",
              "2  intermediate                 1422163139  \n",
              "3  intermediate                 1422163139  \n",
              "4  intermediate                 1422163139  "
            ],
            "text/html": [
              "\n",
              "  <div id=\"df-4ee4b9d4-1c96-49bf-9fd9-10120ef4b7b0\">\n",
              "    <div class=\"colab-df-container\">\n",
              "      <div>\n",
              "<style scoped>\n",
              "    .dataframe tbody tr th:only-of-type {\n",
              "        vertical-align: middle;\n",
              "    }\n",
              "\n",
              "    .dataframe tbody tr th {\n",
              "        vertical-align: top;\n",
              "    }\n",
              "\n",
              "    .dataframe thead th {\n",
              "        text-align: right;\n",
              "    }\n",
              "</style>\n",
              "<table border=\"1\" class=\"dataframe\">\n",
              "  <thead>\n",
              "    <tr style=\"text-align: right;\">\n",
              "      <th></th>\n",
              "      <th>ID</th>\n",
              "      <th>user_id</th>\n",
              "      <th>problem_id</th>\n",
              "      <th>level_type</th>\n",
              "      <th>points</th>\n",
              "      <th>tags</th>\n",
              "      <th>submission_count</th>\n",
              "      <th>problem_solved</th>\n",
              "      <th>contribution</th>\n",
              "      <th>country</th>\n",
              "      <th>follower_count</th>\n",
              "      <th>last_online_time_seconds</th>\n",
              "      <th>max_rating</th>\n",
              "      <th>rating</th>\n",
              "      <th>rank</th>\n",
              "      <th>registration_time_seconds</th>\n",
              "    </tr>\n",
              "  </thead>\n",
              "  <tbody>\n",
              "    <tr>\n",
              "      <th>0</th>\n",
              "      <td>user_856_prob_5822</td>\n",
              "      <td>user_856</td>\n",
              "      <td>prob_5822</td>\n",
              "      <td>L</td>\n",
              "      <td>NaN</td>\n",
              "      <td>NaN</td>\n",
              "      <td>274</td>\n",
              "      <td>231</td>\n",
              "      <td>0</td>\n",
              "      <td>India</td>\n",
              "      <td>35</td>\n",
              "      <td>1503233908</td>\n",
              "      <td>393.062</td>\n",
              "      <td>362.959</td>\n",
              "      <td>intermediate</td>\n",
              "      <td>1422163139</td>\n",
              "    </tr>\n",
              "    <tr>\n",
              "      <th>1</th>\n",
              "      <td>user_856_prob_6173</td>\n",
              "      <td>user_856</td>\n",
              "      <td>prob_6173</td>\n",
              "      <td>B</td>\n",
              "      <td>1000.0</td>\n",
              "      <td>implementation,sortings</td>\n",
              "      <td>274</td>\n",
              "      <td>231</td>\n",
              "      <td>0</td>\n",
              "      <td>India</td>\n",
              "      <td>35</td>\n",
              "      <td>1503233908</td>\n",
              "      <td>393.062</td>\n",
              "      <td>362.959</td>\n",
              "      <td>intermediate</td>\n",
              "      <td>1422163139</td>\n",
              "    </tr>\n",
              "    <tr>\n",
              "      <th>2</th>\n",
              "      <td>user_856_prob_5781</td>\n",
              "      <td>user_856</td>\n",
              "      <td>prob_5781</td>\n",
              "      <td>A</td>\n",
              "      <td>500.0</td>\n",
              "      <td>implementation,math</td>\n",
              "      <td>274</td>\n",
              "      <td>231</td>\n",
              "      <td>0</td>\n",
              "      <td>India</td>\n",
              "      <td>35</td>\n",
              "      <td>1503233908</td>\n",
              "      <td>393.062</td>\n",
              "      <td>362.959</td>\n",
              "      <td>intermediate</td>\n",
              "      <td>1422163139</td>\n",
              "    </tr>\n",
              "    <tr>\n",
              "      <th>3</th>\n",
              "      <td>user_856_prob_3438</td>\n",
              "      <td>user_856</td>\n",
              "      <td>prob_3438</td>\n",
              "      <td>A</td>\n",
              "      <td>500.0</td>\n",
              "      <td>implementation</td>\n",
              "      <td>274</td>\n",
              "      <td>231</td>\n",
              "      <td>0</td>\n",
              "      <td>India</td>\n",
              "      <td>35</td>\n",
              "      <td>1503233908</td>\n",
              "      <td>393.062</td>\n",
              "      <td>362.959</td>\n",
              "      <td>intermediate</td>\n",
              "      <td>1422163139</td>\n",
              "    </tr>\n",
              "    <tr>\n",
              "      <th>4</th>\n",
              "      <td>user_856_prob_1868</td>\n",
              "      <td>user_856</td>\n",
              "      <td>prob_1868</td>\n",
              "      <td>A</td>\n",
              "      <td>500.0</td>\n",
              "      <td>implementation,strings</td>\n",
              "      <td>274</td>\n",
              "      <td>231</td>\n",
              "      <td>0</td>\n",
              "      <td>India</td>\n",
              "      <td>35</td>\n",
              "      <td>1503233908</td>\n",
              "      <td>393.062</td>\n",
              "      <td>362.959</td>\n",
              "      <td>intermediate</td>\n",
              "      <td>1422163139</td>\n",
              "    </tr>\n",
              "  </tbody>\n",
              "</table>\n",
              "</div>\n",
              "      <button class=\"colab-df-convert\" onclick=\"convertToInteractive('df-4ee4b9d4-1c96-49bf-9fd9-10120ef4b7b0')\"\n",
              "              title=\"Convert this dataframe to an interactive table.\"\n",
              "              style=\"display:none;\">\n",
              "        \n",
              "  <svg xmlns=\"http://www.w3.org/2000/svg\" height=\"24px\"viewBox=\"0 0 24 24\"\n",
              "       width=\"24px\">\n",
              "    <path d=\"M0 0h24v24H0V0z\" fill=\"none\"/>\n",
              "    <path d=\"M18.56 5.44l.94 2.06.94-2.06 2.06-.94-2.06-.94-.94-2.06-.94 2.06-2.06.94zm-11 1L8.5 8.5l.94-2.06 2.06-.94-2.06-.94L8.5 2.5l-.94 2.06-2.06.94zm10 10l.94 2.06.94-2.06 2.06-.94-2.06-.94-.94-2.06-.94 2.06-2.06.94z\"/><path d=\"M17.41 7.96l-1.37-1.37c-.4-.4-.92-.59-1.43-.59-.52 0-1.04.2-1.43.59L10.3 9.45l-7.72 7.72c-.78.78-.78 2.05 0 2.83L4 21.41c.39.39.9.59 1.41.59.51 0 1.02-.2 1.41-.59l7.78-7.78 2.81-2.81c.8-.78.8-2.07 0-2.86zM5.41 20L4 18.59l7.72-7.72 1.47 1.35L5.41 20z\"/>\n",
              "  </svg>\n",
              "      </button>\n",
              "      \n",
              "  <style>\n",
              "    .colab-df-container {\n",
              "      display:flex;\n",
              "      flex-wrap:wrap;\n",
              "      gap: 12px;\n",
              "    }\n",
              "\n",
              "    .colab-df-convert {\n",
              "      background-color: #E8F0FE;\n",
              "      border: none;\n",
              "      border-radius: 50%;\n",
              "      cursor: pointer;\n",
              "      display: none;\n",
              "      fill: #1967D2;\n",
              "      height: 32px;\n",
              "      padding: 0 0 0 0;\n",
              "      width: 32px;\n",
              "    }\n",
              "\n",
              "    .colab-df-convert:hover {\n",
              "      background-color: #E2EBFA;\n",
              "      box-shadow: 0px 1px 2px rgba(60, 64, 67, 0.3), 0px 1px 3px 1px rgba(60, 64, 67, 0.15);\n",
              "      fill: #174EA6;\n",
              "    }\n",
              "\n",
              "    [theme=dark] .colab-df-convert {\n",
              "      background-color: #3B4455;\n",
              "      fill: #D2E3FC;\n",
              "    }\n",
              "\n",
              "    [theme=dark] .colab-df-convert:hover {\n",
              "      background-color: #434B5C;\n",
              "      box-shadow: 0px 1px 3px 1px rgba(0, 0, 0, 0.15);\n",
              "      filter: drop-shadow(0px 1px 2px rgba(0, 0, 0, 0.3));\n",
              "      fill: #FFFFFF;\n",
              "    }\n",
              "  </style>\n",
              "\n",
              "      <script>\n",
              "        const buttonEl =\n",
              "          document.querySelector('#df-4ee4b9d4-1c96-49bf-9fd9-10120ef4b7b0 button.colab-df-convert');\n",
              "        buttonEl.style.display =\n",
              "          google.colab.kernel.accessAllowed ? 'block' : 'none';\n",
              "\n",
              "        async function convertToInteractive(key) {\n",
              "          const element = document.querySelector('#df-4ee4b9d4-1c96-49bf-9fd9-10120ef4b7b0');\n",
              "          const dataTable =\n",
              "            await google.colab.kernel.invokeFunction('convertToInteractive',\n",
              "                                                     [key], {});\n",
              "          if (!dataTable) return;\n",
              "\n",
              "          const docLinkHtml = 'Like what you see? Visit the ' +\n",
              "            '<a target=\"_blank\" href=https://colab.research.google.com/notebooks/data_table.ipynb>data table notebook</a>'\n",
              "            + ' to learn more about interactive tables.';\n",
              "          element.innerHTML = '';\n",
              "          dataTable['output_type'] = 'display_data';\n",
              "          await google.colab.output.renderOutput(dataTable, element);\n",
              "          const docLink = document.createElement('div');\n",
              "          docLink.innerHTML = docLinkHtml;\n",
              "          element.appendChild(docLink);\n",
              "        }\n",
              "      </script>\n",
              "    </div>\n",
              "  </div>\n",
              "  "
            ]
          },
          "metadata": {},
          "execution_count": 34
        }
      ]
    },
    {
      "cell_type": "code",
      "source": [
        "#confirming no duplicated values in the test data set\n",
        "\n",
        "test.duplicated().sum()"
      ],
      "metadata": {
        "colab": {
          "base_uri": "https://localhost:8080/"
        },
        "id": "VCjj0oZb1cRf",
        "outputId": "8e679fa4-eaa8-491f-fe21-f3f6c8d03673"
      },
      "execution_count": 35,
      "outputs": [
        {
          "output_type": "execute_result",
          "data": {
            "text/plain": [
              "0"
            ]
          },
          "metadata": {},
          "execution_count": 35
        }
      ]
    },
    {
      "cell_type": "code",
      "source": [
        "#taking out the test id\n",
        "\n",
        "testID = test.pop('ID')"
      ],
      "metadata": {
        "id": "KkrxfAm916EE"
      },
      "execution_count": null,
      "outputs": []
    },
    {
      "cell_type": "code",
      "source": [
        "#merging train daa with problems and users\n",
        "\n",
        "train = train_df.merge(prob_df, on = 'problem_id')\n",
        "train = train.merge(user_df, on = 'user_id')\n",
        "\n",
        "train.head()"
      ],
      "metadata": {
        "colab": {
          "base_uri": "https://localhost:8080/",
          "height": 322
        },
        "id": "9eJkH7GB2D5t",
        "outputId": "ffcda72c-7d3b-41ff-fd1e-684b81b65ae0"
      },
      "execution_count": 38,
      "outputs": [
        {
          "output_type": "execute_result",
          "data": {
            "text/plain": [
              "    user_id problem_id  attempts_range level_type  points  \\\n",
              "0  user_232  prob_6507               1          B  1000.0   \n",
              "1  user_232  prob_5071               4          A   500.0   \n",
              "2  user_232   prob_703               2          A   500.0   \n",
              "3  user_232  prob_3935               1          C  1000.0   \n",
              "4  user_232   prob_164               2          A   500.0   \n",
              "\n",
              "                                       tags  submission_count  problem_solved  \\\n",
              "0                                   strings                53              47   \n",
              "1                            implementation                53              47   \n",
              "2                brute force,implementation                53              47   \n",
              "3                           greedy,sortings                53              47   \n",
              "4  brute force,constructive algorithms,math                53              47   \n",
              "\n",
              "   contribution     country  follower_count  last_online_time_seconds  \\\n",
              "0             0  Bangladesh               1                1503633778   \n",
              "1             0  Bangladesh               1                1503633778   \n",
              "2             0  Bangladesh               1                1503633778   \n",
              "3             0  Bangladesh               1                1503633778   \n",
              "4             0  Bangladesh               1                1503633778   \n",
              "\n",
              "   max_rating   rating      rank  registration_time_seconds  \n",
              "0     307.913  206.709  beginner                 1432110935  \n",
              "1     307.913  206.709  beginner                 1432110935  \n",
              "2     307.913  206.709  beginner                 1432110935  \n",
              "3     307.913  206.709  beginner                 1432110935  \n",
              "4     307.913  206.709  beginner                 1432110935  "
            ],
            "text/html": [
              "\n",
              "  <div id=\"df-97b0e1ca-3969-4d11-90fc-4f347e8200d5\">\n",
              "    <div class=\"colab-df-container\">\n",
              "      <div>\n",
              "<style scoped>\n",
              "    .dataframe tbody tr th:only-of-type {\n",
              "        vertical-align: middle;\n",
              "    }\n",
              "\n",
              "    .dataframe tbody tr th {\n",
              "        vertical-align: top;\n",
              "    }\n",
              "\n",
              "    .dataframe thead th {\n",
              "        text-align: right;\n",
              "    }\n",
              "</style>\n",
              "<table border=\"1\" class=\"dataframe\">\n",
              "  <thead>\n",
              "    <tr style=\"text-align: right;\">\n",
              "      <th></th>\n",
              "      <th>user_id</th>\n",
              "      <th>problem_id</th>\n",
              "      <th>attempts_range</th>\n",
              "      <th>level_type</th>\n",
              "      <th>points</th>\n",
              "      <th>tags</th>\n",
              "      <th>submission_count</th>\n",
              "      <th>problem_solved</th>\n",
              "      <th>contribution</th>\n",
              "      <th>country</th>\n",
              "      <th>follower_count</th>\n",
              "      <th>last_online_time_seconds</th>\n",
              "      <th>max_rating</th>\n",
              "      <th>rating</th>\n",
              "      <th>rank</th>\n",
              "      <th>registration_time_seconds</th>\n",
              "    </tr>\n",
              "  </thead>\n",
              "  <tbody>\n",
              "    <tr>\n",
              "      <th>0</th>\n",
              "      <td>user_232</td>\n",
              "      <td>prob_6507</td>\n",
              "      <td>1</td>\n",
              "      <td>B</td>\n",
              "      <td>1000.0</td>\n",
              "      <td>strings</td>\n",
              "      <td>53</td>\n",
              "      <td>47</td>\n",
              "      <td>0</td>\n",
              "      <td>Bangladesh</td>\n",
              "      <td>1</td>\n",
              "      <td>1503633778</td>\n",
              "      <td>307.913</td>\n",
              "      <td>206.709</td>\n",
              "      <td>beginner</td>\n",
              "      <td>1432110935</td>\n",
              "    </tr>\n",
              "    <tr>\n",
              "      <th>1</th>\n",
              "      <td>user_232</td>\n",
              "      <td>prob_5071</td>\n",
              "      <td>4</td>\n",
              "      <td>A</td>\n",
              "      <td>500.0</td>\n",
              "      <td>implementation</td>\n",
              "      <td>53</td>\n",
              "      <td>47</td>\n",
              "      <td>0</td>\n",
              "      <td>Bangladesh</td>\n",
              "      <td>1</td>\n",
              "      <td>1503633778</td>\n",
              "      <td>307.913</td>\n",
              "      <td>206.709</td>\n",
              "      <td>beginner</td>\n",
              "      <td>1432110935</td>\n",
              "    </tr>\n",
              "    <tr>\n",
              "      <th>2</th>\n",
              "      <td>user_232</td>\n",
              "      <td>prob_703</td>\n",
              "      <td>2</td>\n",
              "      <td>A</td>\n",
              "      <td>500.0</td>\n",
              "      <td>brute force,implementation</td>\n",
              "      <td>53</td>\n",
              "      <td>47</td>\n",
              "      <td>0</td>\n",
              "      <td>Bangladesh</td>\n",
              "      <td>1</td>\n",
              "      <td>1503633778</td>\n",
              "      <td>307.913</td>\n",
              "      <td>206.709</td>\n",
              "      <td>beginner</td>\n",
              "      <td>1432110935</td>\n",
              "    </tr>\n",
              "    <tr>\n",
              "      <th>3</th>\n",
              "      <td>user_232</td>\n",
              "      <td>prob_3935</td>\n",
              "      <td>1</td>\n",
              "      <td>C</td>\n",
              "      <td>1000.0</td>\n",
              "      <td>greedy,sortings</td>\n",
              "      <td>53</td>\n",
              "      <td>47</td>\n",
              "      <td>0</td>\n",
              "      <td>Bangladesh</td>\n",
              "      <td>1</td>\n",
              "      <td>1503633778</td>\n",
              "      <td>307.913</td>\n",
              "      <td>206.709</td>\n",
              "      <td>beginner</td>\n",
              "      <td>1432110935</td>\n",
              "    </tr>\n",
              "    <tr>\n",
              "      <th>4</th>\n",
              "      <td>user_232</td>\n",
              "      <td>prob_164</td>\n",
              "      <td>2</td>\n",
              "      <td>A</td>\n",
              "      <td>500.0</td>\n",
              "      <td>brute force,constructive algorithms,math</td>\n",
              "      <td>53</td>\n",
              "      <td>47</td>\n",
              "      <td>0</td>\n",
              "      <td>Bangladesh</td>\n",
              "      <td>1</td>\n",
              "      <td>1503633778</td>\n",
              "      <td>307.913</td>\n",
              "      <td>206.709</td>\n",
              "      <td>beginner</td>\n",
              "      <td>1432110935</td>\n",
              "    </tr>\n",
              "  </tbody>\n",
              "</table>\n",
              "</div>\n",
              "      <button class=\"colab-df-convert\" onclick=\"convertToInteractive('df-97b0e1ca-3969-4d11-90fc-4f347e8200d5')\"\n",
              "              title=\"Convert this dataframe to an interactive table.\"\n",
              "              style=\"display:none;\">\n",
              "        \n",
              "  <svg xmlns=\"http://www.w3.org/2000/svg\" height=\"24px\"viewBox=\"0 0 24 24\"\n",
              "       width=\"24px\">\n",
              "    <path d=\"M0 0h24v24H0V0z\" fill=\"none\"/>\n",
              "    <path d=\"M18.56 5.44l.94 2.06.94-2.06 2.06-.94-2.06-.94-.94-2.06-.94 2.06-2.06.94zm-11 1L8.5 8.5l.94-2.06 2.06-.94-2.06-.94L8.5 2.5l-.94 2.06-2.06.94zm10 10l.94 2.06.94-2.06 2.06-.94-2.06-.94-.94-2.06-.94 2.06-2.06.94z\"/><path d=\"M17.41 7.96l-1.37-1.37c-.4-.4-.92-.59-1.43-.59-.52 0-1.04.2-1.43.59L10.3 9.45l-7.72 7.72c-.78.78-.78 2.05 0 2.83L4 21.41c.39.39.9.59 1.41.59.51 0 1.02-.2 1.41-.59l7.78-7.78 2.81-2.81c.8-.78.8-2.07 0-2.86zM5.41 20L4 18.59l7.72-7.72 1.47 1.35L5.41 20z\"/>\n",
              "  </svg>\n",
              "      </button>\n",
              "      \n",
              "  <style>\n",
              "    .colab-df-container {\n",
              "      display:flex;\n",
              "      flex-wrap:wrap;\n",
              "      gap: 12px;\n",
              "    }\n",
              "\n",
              "    .colab-df-convert {\n",
              "      background-color: #E8F0FE;\n",
              "      border: none;\n",
              "      border-radius: 50%;\n",
              "      cursor: pointer;\n",
              "      display: none;\n",
              "      fill: #1967D2;\n",
              "      height: 32px;\n",
              "      padding: 0 0 0 0;\n",
              "      width: 32px;\n",
              "    }\n",
              "\n",
              "    .colab-df-convert:hover {\n",
              "      background-color: #E2EBFA;\n",
              "      box-shadow: 0px 1px 2px rgba(60, 64, 67, 0.3), 0px 1px 3px 1px rgba(60, 64, 67, 0.15);\n",
              "      fill: #174EA6;\n",
              "    }\n",
              "\n",
              "    [theme=dark] .colab-df-convert {\n",
              "      background-color: #3B4455;\n",
              "      fill: #D2E3FC;\n",
              "    }\n",
              "\n",
              "    [theme=dark] .colab-df-convert:hover {\n",
              "      background-color: #434B5C;\n",
              "      box-shadow: 0px 1px 3px 1px rgba(0, 0, 0, 0.15);\n",
              "      filter: drop-shadow(0px 1px 2px rgba(0, 0, 0, 0.3));\n",
              "      fill: #FFFFFF;\n",
              "    }\n",
              "  </style>\n",
              "\n",
              "      <script>\n",
              "        const buttonEl =\n",
              "          document.querySelector('#df-97b0e1ca-3969-4d11-90fc-4f347e8200d5 button.colab-df-convert');\n",
              "        buttonEl.style.display =\n",
              "          google.colab.kernel.accessAllowed ? 'block' : 'none';\n",
              "\n",
              "        async function convertToInteractive(key) {\n",
              "          const element = document.querySelector('#df-97b0e1ca-3969-4d11-90fc-4f347e8200d5');\n",
              "          const dataTable =\n",
              "            await google.colab.kernel.invokeFunction('convertToInteractive',\n",
              "                                                     [key], {});\n",
              "          if (!dataTable) return;\n",
              "\n",
              "          const docLinkHtml = 'Like what you see? Visit the ' +\n",
              "            '<a target=\"_blank\" href=https://colab.research.google.com/notebooks/data_table.ipynb>data table notebook</a>'\n",
              "            + ' to learn more about interactive tables.';\n",
              "          element.innerHTML = '';\n",
              "          dataTable['output_type'] = 'display_data';\n",
              "          await google.colab.output.renderOutput(dataTable, element);\n",
              "          const docLink = document.createElement('div');\n",
              "          docLink.innerHTML = docLinkHtml;\n",
              "          element.appendChild(docLink);\n",
              "        }\n",
              "      </script>\n",
              "    </div>\n",
              "  </div>\n",
              "  "
            ]
          },
          "metadata": {},
          "execution_count": 38
        }
      ]
    },
    {
      "cell_type": "code",
      "source": [
        "#confirming there is no duplicated values in the train dataset\n",
        "\n",
        "train.duplicated().sum()"
      ],
      "metadata": {
        "colab": {
          "base_uri": "https://localhost:8080/"
        },
        "id": "sQkIGFhW2p1h",
        "outputId": "75328695-a2df-4b74-83dd-e755ea9b4dee"
      },
      "execution_count": 39,
      "outputs": [
        {
          "output_type": "execute_result",
          "data": {
            "text/plain": [
              "0"
            ]
          },
          "metadata": {},
          "execution_count": 39
        }
      ]
    },
    {
      "cell_type": "markdown",
      "source": [
        "Dealing with all null values in both train and test data\n"
      ],
      "metadata": {
        "id": "sE7vRb1A27U7"
      }
    },
    {
      "cell_type": "code",
      "source": [
        "train.isna().sum()"
      ],
      "metadata": {
        "colab": {
          "base_uri": "https://localhost:8080/"
        },
        "id": "hlTXl7XJ23cX",
        "outputId": "ef4cd1a9-978f-43ff-ec6e-09476335076c"
      },
      "execution_count": 40,
      "outputs": [
        {
          "output_type": "execute_result",
          "data": {
            "text/plain": [
              "user_id                          0\n",
              "problem_id                       0\n",
              "attempts_range                   0\n",
              "level_type                     620\n",
              "points                       29075\n",
              "tags                         15427\n",
              "submission_count                 0\n",
              "problem_solved                   0\n",
              "contribution                     0\n",
              "country                      37853\n",
              "follower_count                   0\n",
              "last_online_time_seconds         0\n",
              "max_rating                       0\n",
              "rating                           0\n",
              "rank                             0\n",
              "registration_time_seconds        0\n",
              "dtype: int64"
            ]
          },
          "metadata": {},
          "execution_count": 40
        }
      ]
    },
    {
      "cell_type": "code",
      "source": [
        "test.isna().sum()"
      ],
      "metadata": {
        "colab": {
          "base_uri": "https://localhost:8080/"
        },
        "id": "iEhoooLx3UMi",
        "outputId": "fb88b801-5115-44d3-8591-4e8ae354f17f"
      },
      "execution_count": 41,
      "outputs": [
        {
          "output_type": "execute_result",
          "data": {
            "text/plain": [
              "user_id                          0\n",
              "problem_id                       0\n",
              "level_type                     285\n",
              "points                       12484\n",
              "tags                          6612\n",
              "submission_count                 0\n",
              "problem_solved                   0\n",
              "contribution                     0\n",
              "country                      16162\n",
              "follower_count                   0\n",
              "last_online_time_seconds         0\n",
              "max_rating                       0\n",
              "rating                           0\n",
              "rank                             0\n",
              "registration_time_seconds        0\n",
              "dtype: int64"
            ]
          },
          "metadata": {},
          "execution_count": 41
        }
      ]
    },
    {
      "cell_type": "markdown",
      "source": [
        "Filling the null values with the help of insights that are taken in deep data analysis"
      ],
      "metadata": {
        "id": "nRNpDPqM557b"
      }
    },
    {
      "cell_type": "code",
      "source": [
        "#level_type is filled with the most common class; class A\n",
        "train[\"level_type\"].fillna(\"A\", inplace = True)\n",
        "test[\"level_type\"].fillna(\"A\", inplace = True)\n"
      ],
      "metadata": {
        "id": "RZIQeA_-3gW7"
      },
      "execution_count": 42,
      "outputs": []
    },
    {
      "cell_type": "code",
      "source": [
        "#country is filled with most common class; \"India\"\n",
        "train[\"country\"].fillna('India',inplace=True)\n",
        "test[\"country\"].fillna('India',inplace=True)\n"
      ],
      "metadata": {
        "id": "RJG-qRDU6zva"
      },
      "execution_count": 43,
      "outputs": []
    },
    {
      "cell_type": "code",
      "source": [
        "#points is filled with average value of 500\n",
        "train[\"points\"].fillna('500',inplace=True)\n",
        "test[\"points\"].fillna('500',inplace=True)\n"
      ],
      "metadata": {
        "id": "n4HV-4_w6_in"
      },
      "execution_count": 44,
      "outputs": []
    },
    {
      "cell_type": "code",
      "source": [
        "#confirming no null values in both datasets\n",
        "print(train.isna().sum())\n",
        "print(test.isna().sum())\n"
      ],
      "metadata": {
        "colab": {
          "base_uri": "https://localhost:8080/"
        },
        "id": "Vx26QejW7WQN",
        "outputId": "eacee795-b410-4cbb-bc6f-fe38ae00ca74"
      },
      "execution_count": 45,
      "outputs": [
        {
          "output_type": "stream",
          "name": "stdout",
          "text": [
            "user_id                          0\n",
            "problem_id                       0\n",
            "attempts_range                   0\n",
            "level_type                       0\n",
            "points                           0\n",
            "tags                         15427\n",
            "submission_count                 0\n",
            "problem_solved                   0\n",
            "contribution                     0\n",
            "country                          0\n",
            "follower_count                   0\n",
            "last_online_time_seconds         0\n",
            "max_rating                       0\n",
            "rating                           0\n",
            "rank                             0\n",
            "registration_time_seconds        0\n",
            "dtype: int64\n",
            "user_id                         0\n",
            "problem_id                      0\n",
            "level_type                      0\n",
            "points                          0\n",
            "tags                         6612\n",
            "submission_count                0\n",
            "problem_solved                  0\n",
            "contribution                    0\n",
            "country                         0\n",
            "follower_count                  0\n",
            "last_online_time_seconds        0\n",
            "max_rating                      0\n",
            "rating                          0\n",
            "rank                            0\n",
            "registration_time_seconds       0\n",
            "dtype: int64\n"
          ]
        }
      ]
    },
    {
      "cell_type": "code",
      "source": [
        "#onehot encoding the tag column so that one class is defined to null tags\n",
        "train= pd.concat([train.drop('tags', axis=1), train.tags.str.get_dummies(sep=',').add_prefix('tag_')],1)\n",
        "test= pd.concat([test.drop('tags', axis=1), test.tags.str.get_dummies(sep=',').add_prefix('tag_')],1)"
      ],
      "metadata": {
        "colab": {
          "base_uri": "https://localhost:8080/"
        },
        "id": "7X3cL4Ze7u8l",
        "outputId": "22c33fcf-97c4-48d1-bfbf-f03b8e54ce48"
      },
      "execution_count": 46,
      "outputs": [
        {
          "output_type": "stream",
          "name": "stderr",
          "text": [
            "/usr/local/lib/python3.7/dist-packages/ipykernel_launcher.py:2: FutureWarning: In a future version of pandas all arguments of concat except for the argument 'objs' will be keyword-only\n",
            "  \n",
            "/usr/local/lib/python3.7/dist-packages/ipykernel_launcher.py:3: FutureWarning: In a future version of pandas all arguments of concat except for the argument 'objs' will be keyword-only\n",
            "  This is separate from the ipykernel package so we can avoid doing imports until\n"
          ]
        }
      ]
    },
    {
      "cell_type": "code",
      "source": [
        "#checking for null values in the data\n",
        "print(train.isna().sum().any())\n",
        "print(test.isna().sum().any())"
      ],
      "metadata": {
        "colab": {
          "base_uri": "https://localhost:8080/"
        },
        "id": "EIoo3h0u8oT2",
        "outputId": "77973378-863f-4ea2-b5cf-dae6b1d55581"
      },
      "execution_count": 47,
      "outputs": [
        {
          "output_type": "stream",
          "name": "stdout",
          "text": [
            "False\n",
            "False\n"
          ]
        }
      ]
    },
    {
      "cell_type": "markdown",
      "source": [
        "Encoding the categorical features\n"
      ],
      "metadata": {
        "id": "61Cj5knb8vum"
      }
    },
    {
      "cell_type": "code",
      "source": [
        "import sklearn\n",
        "from sklearn.preprocessing import LabelEncoder"
      ],
      "metadata": {
        "id": "v7RzELdT8tmV"
      },
      "execution_count": 48,
      "outputs": []
    },
    {
      "cell_type": "code",
      "source": [
        "label = LabelEncoder()\n",
        "train[\"level_type\"]=label.fit_transform(train[\"level_type\"])\n",
        "test[\"level_type\"]=label.fit_transform(test[\"level_type\"])"
      ],
      "metadata": {
        "id": "FCGheyIg9Cfe"
      },
      "execution_count": 49,
      "outputs": []
    },
    {
      "cell_type": "code",
      "source": [
        "train[\"country\"]=label.fit_transform(train[\"country\"])\n",
        "test[\"country\"]=label.fit_transform(test[\"country\"])"
      ],
      "metadata": {
        "id": "bJLnl4G69EGw"
      },
      "execution_count": 50,
      "outputs": []
    },
    {
      "cell_type": "code",
      "source": [
        "train[\"rank\"]=label.fit_transform(train[\"rank\"])\n",
        "test[\"rank\"]=label.fit_transform(test[\"rank\"])"
      ],
      "metadata": {
        "id": "1O9uXmx79GAe"
      },
      "execution_count": 51,
      "outputs": []
    },
    {
      "cell_type": "code",
      "source": [
        "#converting userid,problem id and points to integer columns\n",
        "\n",
        "train.user_id=train.user_id.str[5:].astype(int)\n",
        "test.user_id=test.user_id.str[5:].astype(int)\n",
        "\n",
        "\n",
        "train.problem_id=train.problem_id.str[5:].astype(int)\n",
        "test.problem_id=test.problem_id.str[5:].astype(int)\n",
        "\n"
      ],
      "metadata": {
        "id": "uWeZtpkF9Htf"
      },
      "execution_count": 52,
      "outputs": []
    },
    {
      "cell_type": "code",
      "source": [
        "train.points=train.points.astype(int)\n",
        "test.points=test.points.astype(int)\n"
      ],
      "metadata": {
        "id": "-_BcGSiy9xnN"
      },
      "execution_count": 53,
      "outputs": []
    },
    {
      "cell_type": "markdown",
      "source": [
        "Splitting the data and training a simple model\n"
      ],
      "metadata": {
        "id": "dep2VZjJ95n2"
      }
    },
    {
      "cell_type": "code",
      "source": [
        "#splitting the data\n",
        "\n",
        "target=train.attempts_range\n",
        "x=train.drop('attempts_range',axis=1)\n",
        "y=test"
      ],
      "metadata": {
        "id": "vN_OS_pY94Om"
      },
      "execution_count": 54,
      "outputs": []
    },
    {
      "cell_type": "code",
      "source": [
        "#initiation of a random forest classifier\n",
        "\n",
        "from sklearn.ensemble import RandomForestClassifier\n",
        "\n",
        "model0 = RandomForestClassifier(max_depth = 25, random_state = 0)\n",
        "model0.fit(x, target)"
      ],
      "metadata": {
        "colab": {
          "base_uri": "https://localhost:8080/"
        },
        "id": "mN0S-8m4-F62",
        "outputId": "1b83d766-c7fb-4c70-b350-def971b391a8"
      },
      "execution_count": 66,
      "outputs": [
        {
          "output_type": "execute_result",
          "data": {
            "text/plain": [
              "RandomForestClassifier(max_depth=25, random_state=0)"
            ]
          },
          "metadata": {},
          "execution_count": 66
        }
      ]
    },
    {
      "cell_type": "code",
      "source": [
        "#evaluating the model\n",
        "\n",
        "pred0  = model0.predict(x)"
      ],
      "metadata": {
        "id": "YVYqzoMV-81x"
      },
      "execution_count": 67,
      "outputs": []
    },
    {
      "cell_type": "code",
      "source": [
        "#checking the F1 score of the model\n",
        "\n",
        "from sklearn.metrics import f1_score, accuracy_score\n",
        "\n",
        "f1_score(target,pred0, average = \"weighted\")\n",
        "\n",
        "#accuracy_score(target, pred0)"
      ],
      "metadata": {
        "colab": {
          "base_uri": "https://localhost:8080/"
        },
        "id": "QoH7B7hA_OJl",
        "outputId": "9d262ffe-b72e-4c2b-926b-7476448128a2"
      },
      "execution_count": 69,
      "outputs": [
        {
          "output_type": "execute_result",
          "data": {
            "text/plain": [
              "0.8776879811776824"
            ]
          },
          "metadata": {},
          "execution_count": 69
        }
      ]
    },
    {
      "cell_type": "code",
      "source": [],
      "metadata": {
        "id": "Izc73F8QJ8hI"
      },
      "execution_count": null,
      "outputs": []
    }
  ]
}